{
 "cells": [
  {
   "cell_type": "code",
   "execution_count": 43,
   "metadata": {},
   "outputs": [
    {
     "name": "stdout",
     "output_type": "stream",
     "text": [
      "Requirement already satisfied: kaggle in ./env/lib/python3.6/site-packages\n",
      "Requirement already satisfied: certifi in ./env/lib/python3.6/site-packages (from kaggle)\n",
      "Requirement already satisfied: python-dateutil in ./env/lib/python3.6/site-packages (from kaggle)\n",
      "Requirement already satisfied: python-slugify in ./env/lib/python3.6/site-packages (from kaggle)\n",
      "Requirement already satisfied: requests in ./env/lib/python3.6/site-packages (from kaggle)\n",
      "Requirement already satisfied: six>=1.10 in ./env/lib/python3.6/site-packages (from kaggle)\n",
      "Requirement already satisfied: tqdm in ./env/lib/python3.6/site-packages (from kaggle)\n",
      "Requirement already satisfied: urllib3 in ./env/lib/python3.6/site-packages (from kaggle)\n",
      "Requirement already satisfied: text-unidecode>=1.3 in ./env/lib/python3.6/site-packages (from python-slugify->kaggle)\n",
      "Requirement already satisfied: idna<4,>=2.5; python_version >= \"3\" in ./env/lib/python3.6/site-packages (from requests->kaggle)\n",
      "Requirement already satisfied: charset-normalizer~=2.0.0; python_version >= \"3\" in ./env/lib/python3.6/site-packages (from requests->kaggle)\n",
      "Requirement already satisfied: importlib-resources; python_version < \"3.7\" in ./env/lib/python3.6/site-packages (from tqdm->kaggle)\n",
      "Requirement already satisfied: zipp>=3.1.0; python_version < \"3.10\" in ./env/lib/python3.6/site-packages (from importlib-resources; python_version < \"3.7\"->tqdm->kaggle)\n",
      "Requirement already satisfied: pandas in ./env/lib/python3.6/site-packages\n",
      "Requirement already satisfied: numpy>=1.15.4 in ./env/lib/python3.6/site-packages (from pandas)\n",
      "Requirement already satisfied: pytz>=2017.2 in ./env/lib/python3.6/site-packages (from pandas)\n",
      "Requirement already satisfied: python-dateutil>=2.7.3 in ./env/lib/python3.6/site-packages (from pandas)\n",
      "Requirement already satisfied: six>=1.5 in ./env/lib/python3.6/site-packages (from python-dateutil>=2.7.3->pandas)\n"
     ]
    }
   ],
   "source": [
    "!pip install kaggle\n",
    "!python3 -m pip install pandas"
   ]
  },
  {
   "cell_type": "code",
   "execution_count": 58,
   "metadata": {},
   "outputs": [],
   "source": [
    "#{\"username\":\"anguis1\",\"key\":\"8e5aa869bd2b736636371bd2e59902b3\"}\n",
    "\n",
    "os.environ['KAGGLE_USERNAME'] = 'anguis1'\n",
    "os.environ['KAGGLE_KEY'] = '8e5aa869bd2b736636371bd2e59902b3'\n",
    "\n",
    "#Nom du dataset\n",
    "dataset = \"vishalsubbiah/pokemon-images-and-types\"\n",
    "\n",
    "#Téléchargement du Dataset\n",
    "kaggle.api.dataset_download_files(dataset)\n",
    "\n",
    "with zipfile.ZipFile('pokemon-images-and-types.zip', 'r') as zip_ref:\n",
    "    zip_ref.extractall('pokemon')"
   ]
  },
  {
   "cell_type": "code",
   "execution_count": 60,
   "metadata": {},
   "outputs": [
    {
     "name": "stdout",
     "output_type": "stream",
     "text": [
      "         Name  Type1   Type2                                 image\n",
      "0   bulbasaur  Grass  Poison   pokemon/images/images/bulbasaur.png\n",
      "1     ivysaur  Grass  Poison     pokemon/images/images/ivysaur.png\n",
      "2    venusaur  Grass  Poison    pokemon/images/images/venusaur.png\n",
      "3  charmander   Fire     NaN  pokemon/images/images/charmander.png\n",
      "4  charmeleon   Fire     NaN  pokemon/images/images/charmeleon.png\n"
     ]
    }
   ],
   "source": [
    "import urllib.request\n",
    "import json\n",
    "import pandas as pd\n",
    "\n",
    "#On charge le fichier csv\n",
    "df = pd.read_csv('./pokemon/pokemon.csv')\n",
    "\n",
    "#On crée un dictionnaire associant le nom du pokemon à son image\n",
    "pokemon_images = {}\n",
    "for filename in os.listdir(\"./pokemon/images/images\"):\n",
    "    if filename.endswith(\".png\"):\n",
    "        name = filename.split(\".\")[0]\n",
    "        pokemon_images[name] = os.path.join(\"pokemon/images/images\", filename)\n",
    "\n",
    "# Ajouter une colonne \"image\" au dataframe\n",
    "df[\"image\"] = df[\"Name\"].apply(lambda x: pokemon_images.get(x, None))\n",
    "\n",
    "# Supprimer les lignes sans image\n",
    "df = df.dropna(subset=[\"image\"])\n",
    "\n",
    "# Afficher le dataframe\n",
    "print(df.head())"
   ]
  },
  {
   "cell_type": "code",
   "execution_count": 62,
   "metadata": {},
   "outputs": [],
   "source": [
    "import numpy as np\n",
    "from sklearn.cluster import KMeans\n",
    "\n",
    "def get_dominant_colors(image_path, n_colors):\n",
    "    # Charger l'image et la convertir en une matrice numpy\n",
    "    img = Image.open(image_path)\n",
    "    img = np.array(img)\n",
    "\n",
    "    # Obtenir un tableau de pixels en deux dimensions\n",
    "    pixels = img.reshape(-1, 3)\n",
    "    #-1 car l'argument s'adapte à la taille de l'image et 3 pour le RGB\n",
    "    \n",
    "    # Créer un objet de clustering\n",
    "    kmeans = KMeans(n_clusters=n_colors)\n",
    "\n",
    "    # Entraîner le modèle\n",
    "    kmeans.fit(pixels)\n",
    "\n",
    "    # Récupérer les couleurs dominantes\n",
    "    dominant_colors = kmeans.cluster_centers_\n",
    "\n",
    "    # Convertir les couleurs en entiers et les ajouter à une liste\n",
    "    dominant_colors = [tuple(map(int, color)) for color in dominant_colors]\n",
    "\n",
    "    return dominant_colors"
   ]
  },
  {
   "cell_type": "code",
   "execution_count": 63,
   "metadata": {},
   "outputs": [],
   "source": [
    "# import random\n",
    "import random\n",
    "\n",
    "def satisfied_or_not():\n",
    "    \n",
    "    #Fonction pour générer un avis aléatoire (positif ou négatif) de l'utilisateur pour pouvoir effectuer des tests\n",
    "    \n",
    "    return random.choice(['Yes', 'No'])"
   ]
  },
  {
   "cell_type": "code",
   "execution_count": 65,
   "metadata": {},
   "outputs": [
    {
     "name": "stdout",
     "output_type": "stream",
     "text": [
      "Erreur lors de l'extraction des informations de skrelp.png: 'dict' object has no attribute 'append'\n",
      "Erreur lors de l'extraction des informations de lileep.png: 'dict' object has no attribute 'append'\n",
      "Erreur lors de l'extraction des informations de cresselia.png: 'dict' object has no attribute 'append'\n",
      "Erreur lors de l'extraction des informations de crawdaunt.png: 'dict' object has no attribute 'append'\n",
      "Erreur lors de l'extraction des informations de zangoose.png: 'dict' object has no attribute 'append'\n",
      "Erreur lors de l'extraction des informations de lunatone.png: 'dict' object has no attribute 'append'\n",
      "Erreur lors de l'extraction des informations de monferno.png: 'dict' object has no attribute 'append'\n",
      "Erreur lors de l'extraction des informations de grumpig.png: 'dict' object has no attribute 'append'\n",
      "Erreur lors de l'extraction des informations de marshtomp.png: 'dict' object has no attribute 'append'\n",
      "Erreur lors de l'extraction des informations de latios.png: 'dict' object has no attribute 'append'\n",
      "Erreur lors de l'extraction des informations de chingling.png: 'dict' object has no attribute 'append'\n"
     ]
    },
    {
     "ename": "KeyboardInterrupt",
     "evalue": "",
     "output_type": "error",
     "traceback": [
      "\u001b[0;31m---------------------------------------------------------------------------\u001b[0m",
      "\u001b[0;31mKeyboardInterrupt\u001b[0m                         Traceback (most recent call last)",
      "\u001b[0;32m<ipython-input-65-8db2290adb81>\u001b[0m in \u001b[0;36m<module>\u001b[0;34m\u001b[0m\n\u001b[1;32m     26\u001b[0m                 images_info = {'filename': filename, \n\u001b[1;32m     27\u001b[0m                               \u001b[0;34m'size'\u001b[0m\u001b[0;34m:\u001b[0m \u001b[0mos\u001b[0m\u001b[0;34m.\u001b[0m\u001b[0mpath\u001b[0m\u001b[0;34m.\u001b[0m\u001b[0mgetsize\u001b[0m\u001b[0;34m(\u001b[0m\u001b[0mfilepath\u001b[0m\u001b[0;34m)\u001b[0m\u001b[0;34m,\u001b[0m\u001b[0;34m\u001b[0m\u001b[0;34m\u001b[0m\u001b[0m\n\u001b[0;32m---> 28\u001b[0;31m                               \u001b[0;34m'k-means_regions'\u001b[0m\u001b[0;34m:\u001b[0m \u001b[0mget_dominant_colors\u001b[0m\u001b[0;34m(\u001b[0m\u001b[0mfilepath\u001b[0m\u001b[0;34m,\u001b[0m\u001b[0;36m1\u001b[0m\u001b[0;34m)\u001b[0m\u001b[0;34m,\u001b[0m\u001b[0;34m\u001b[0m\u001b[0;34m\u001b[0m\u001b[0m\n\u001b[0m\u001b[1;32m     29\u001b[0m                               \u001b[0;34m'favorite_utilisateur1'\u001b[0m\u001b[0;34m:\u001b[0m \u001b[0msatisfied_or_not\u001b[0m\u001b[0;34m(\u001b[0m\u001b[0;34m)\u001b[0m\u001b[0;34m,\u001b[0m\u001b[0;34m\u001b[0m\u001b[0;34m\u001b[0m\u001b[0m\n\u001b[1;32m     30\u001b[0m                               \u001b[0;34m'favorite_utilisateur2'\u001b[0m\u001b[0;34m:\u001b[0m \u001b[0msatisfied_or_not\u001b[0m\u001b[0;34m(\u001b[0m\u001b[0;34m)\u001b[0m\u001b[0;34m,\u001b[0m\u001b[0;34m\u001b[0m\u001b[0;34m\u001b[0m\u001b[0m\n",
      "\u001b[0;32m<ipython-input-62-871c4cccc510>\u001b[0m in \u001b[0;36mget_dominant_colors\u001b[0;34m(image_path, n_colors)\u001b[0m\n\u001b[1;32m     15\u001b[0m \u001b[0;34m\u001b[0m\u001b[0m\n\u001b[1;32m     16\u001b[0m     \u001b[0;31m# Entraîner le modèle\u001b[0m\u001b[0;34m\u001b[0m\u001b[0;34m\u001b[0m\u001b[0;34m\u001b[0m\u001b[0m\n\u001b[0;32m---> 17\u001b[0;31m     \u001b[0mkmeans\u001b[0m\u001b[0;34m.\u001b[0m\u001b[0mfit\u001b[0m\u001b[0;34m(\u001b[0m\u001b[0mpixels\u001b[0m\u001b[0;34m)\u001b[0m\u001b[0;34m\u001b[0m\u001b[0;34m\u001b[0m\u001b[0m\n\u001b[0m\u001b[1;32m     18\u001b[0m \u001b[0;34m\u001b[0m\u001b[0m\n\u001b[1;32m     19\u001b[0m     \u001b[0;31m# Récupérer les couleurs dominantes\u001b[0m\u001b[0;34m\u001b[0m\u001b[0;34m\u001b[0m\u001b[0;34m\u001b[0m\u001b[0m\n",
      "\u001b[0;32m~/Data mining/Data-mining-project/env/lib/python3.6/site-packages/sklearn/cluster/_kmeans.py\u001b[0m in \u001b[0;36mfit\u001b[0;34m(self, X, y, sample_weight)\u001b[0m\n\u001b[1;32m   1016\u001b[0m             centers_init = self._init_centroids(\n\u001b[1;32m   1017\u001b[0m                 \u001b[0mX\u001b[0m\u001b[0;34m,\u001b[0m \u001b[0mx_squared_norms\u001b[0m\u001b[0;34m=\u001b[0m\u001b[0mx_squared_norms\u001b[0m\u001b[0;34m,\u001b[0m \u001b[0minit\u001b[0m\u001b[0;34m=\u001b[0m\u001b[0minit\u001b[0m\u001b[0;34m,\u001b[0m\u001b[0;34m\u001b[0m\u001b[0;34m\u001b[0m\u001b[0m\n\u001b[0;32m-> 1018\u001b[0;31m                 random_state=random_state)\n\u001b[0m\u001b[1;32m   1019\u001b[0m             \u001b[0;32mif\u001b[0m \u001b[0mself\u001b[0m\u001b[0;34m.\u001b[0m\u001b[0mverbose\u001b[0m\u001b[0;34m:\u001b[0m\u001b[0;34m\u001b[0m\u001b[0;34m\u001b[0m\u001b[0m\n\u001b[1;32m   1020\u001b[0m                 \u001b[0mprint\u001b[0m\u001b[0;34m(\u001b[0m\u001b[0;34m\"Initialization complete\"\u001b[0m\u001b[0;34m)\u001b[0m\u001b[0;34m\u001b[0m\u001b[0;34m\u001b[0m\u001b[0m\n",
      "\u001b[0;32m~/Data mining/Data-mining-project/env/lib/python3.6/site-packages/sklearn/cluster/_kmeans.py\u001b[0m in \u001b[0;36m_init_centroids\u001b[0;34m(self, X, x_squared_norms, init, random_state, init_size)\u001b[0m\n\u001b[1;32m    934\u001b[0m             centers, _ = _kmeans_plusplus(X, n_clusters,\n\u001b[1;32m    935\u001b[0m                                           \u001b[0mrandom_state\u001b[0m\u001b[0;34m=\u001b[0m\u001b[0mrandom_state\u001b[0m\u001b[0;34m,\u001b[0m\u001b[0;34m\u001b[0m\u001b[0;34m\u001b[0m\u001b[0m\n\u001b[0;32m--> 936\u001b[0;31m                                           x_squared_norms=x_squared_norms)\n\u001b[0m\u001b[1;32m    937\u001b[0m         \u001b[0;32melif\u001b[0m \u001b[0misinstance\u001b[0m\u001b[0;34m(\u001b[0m\u001b[0minit\u001b[0m\u001b[0;34m,\u001b[0m \u001b[0mstr\u001b[0m\u001b[0;34m)\u001b[0m \u001b[0;32mand\u001b[0m \u001b[0minit\u001b[0m \u001b[0;34m==\u001b[0m \u001b[0;34m'random'\u001b[0m\u001b[0;34m:\u001b[0m\u001b[0;34m\u001b[0m\u001b[0;34m\u001b[0m\u001b[0m\n\u001b[1;32m    938\u001b[0m             \u001b[0mseeds\u001b[0m \u001b[0;34m=\u001b[0m \u001b[0mrandom_state\u001b[0m\u001b[0;34m.\u001b[0m\u001b[0mpermutation\u001b[0m\u001b[0;34m(\u001b[0m\u001b[0mn_samples\u001b[0m\u001b[0;34m)\u001b[0m\u001b[0;34m[\u001b[0m\u001b[0;34m:\u001b[0m\u001b[0mn_clusters\u001b[0m\u001b[0;34m]\u001b[0m\u001b[0;34m\u001b[0m\u001b[0;34m\u001b[0m\u001b[0m\n",
      "\u001b[0;32m~/Data mining/Data-mining-project/env/lib/python3.6/site-packages/sklearn/cluster/_kmeans.py\u001b[0m in \u001b[0;36m_kmeans_plusplus\u001b[0;34m(X, n_clusters, x_squared_norms, random_state, n_local_trials)\u001b[0m\n\u001b[1;32m    106\u001b[0m     closest_dist_sq = euclidean_distances(\n\u001b[1;32m    107\u001b[0m         \u001b[0mcenters\u001b[0m\u001b[0;34m[\u001b[0m\u001b[0;36m0\u001b[0m\u001b[0;34m,\u001b[0m \u001b[0mnp\u001b[0m\u001b[0;34m.\u001b[0m\u001b[0mnewaxis\u001b[0m\u001b[0;34m]\u001b[0m\u001b[0;34m,\u001b[0m \u001b[0mX\u001b[0m\u001b[0;34m,\u001b[0m \u001b[0mY_norm_squared\u001b[0m\u001b[0;34m=\u001b[0m\u001b[0mx_squared_norms\u001b[0m\u001b[0;34m,\u001b[0m\u001b[0;34m\u001b[0m\u001b[0;34m\u001b[0m\u001b[0m\n\u001b[0;32m--> 108\u001b[0;31m         squared=True)\n\u001b[0m\u001b[1;32m    109\u001b[0m     \u001b[0mcurrent_pot\u001b[0m \u001b[0;34m=\u001b[0m \u001b[0mclosest_dist_sq\u001b[0m\u001b[0;34m.\u001b[0m\u001b[0msum\u001b[0m\u001b[0;34m(\u001b[0m\u001b[0;34m)\u001b[0m\u001b[0;34m\u001b[0m\u001b[0;34m\u001b[0m\u001b[0m\n\u001b[1;32m    110\u001b[0m \u001b[0;34m\u001b[0m\u001b[0m\n",
      "\u001b[0;32m~/Data mining/Data-mining-project/env/lib/python3.6/site-packages/sklearn/utils/validation.py\u001b[0m in \u001b[0;36minner_f\u001b[0;34m(*args, **kwargs)\u001b[0m\n\u001b[1;32m     61\u001b[0m             \u001b[0mextra_args\u001b[0m \u001b[0;34m=\u001b[0m \u001b[0mlen\u001b[0m\u001b[0;34m(\u001b[0m\u001b[0margs\u001b[0m\u001b[0;34m)\u001b[0m \u001b[0;34m-\u001b[0m \u001b[0mlen\u001b[0m\u001b[0;34m(\u001b[0m\u001b[0mall_args\u001b[0m\u001b[0;34m)\u001b[0m\u001b[0;34m\u001b[0m\u001b[0;34m\u001b[0m\u001b[0m\n\u001b[1;32m     62\u001b[0m             \u001b[0;32mif\u001b[0m \u001b[0mextra_args\u001b[0m \u001b[0;34m<=\u001b[0m \u001b[0;36m0\u001b[0m\u001b[0;34m:\u001b[0m\u001b[0;34m\u001b[0m\u001b[0;34m\u001b[0m\u001b[0m\n\u001b[0;32m---> 63\u001b[0;31m                 \u001b[0;32mreturn\u001b[0m \u001b[0mf\u001b[0m\u001b[0;34m(\u001b[0m\u001b[0;34m*\u001b[0m\u001b[0margs\u001b[0m\u001b[0;34m,\u001b[0m \u001b[0;34m**\u001b[0m\u001b[0mkwargs\u001b[0m\u001b[0;34m)\u001b[0m\u001b[0;34m\u001b[0m\u001b[0;34m\u001b[0m\u001b[0m\n\u001b[0m\u001b[1;32m     64\u001b[0m \u001b[0;34m\u001b[0m\u001b[0m\n\u001b[1;32m     65\u001b[0m             \u001b[0;31m# extra_args > 0\u001b[0m\u001b[0;34m\u001b[0m\u001b[0;34m\u001b[0m\u001b[0;34m\u001b[0m\u001b[0m\n",
      "\u001b[0;32m~/Data mining/Data-mining-project/env/lib/python3.6/site-packages/sklearn/metrics/pairwise.py\u001b[0m in \u001b[0;36meuclidean_distances\u001b[0;34m(X, Y, Y_norm_squared, squared, X_norm_squared)\u001b[0m\n\u001b[1;32m    311\u001b[0m     \u001b[0;32melse\u001b[0m\u001b[0;34m:\u001b[0m\u001b[0;34m\u001b[0m\u001b[0;34m\u001b[0m\u001b[0m\n\u001b[1;32m    312\u001b[0m         \u001b[0;31m# if dtype is already float64, no need to chunk and upcast\u001b[0m\u001b[0;34m\u001b[0m\u001b[0;34m\u001b[0m\u001b[0;34m\u001b[0m\u001b[0m\n\u001b[0;32m--> 313\u001b[0;31m         \u001b[0mdistances\u001b[0m \u001b[0;34m=\u001b[0m \u001b[0;34m-\u001b[0m \u001b[0;36m2\u001b[0m \u001b[0;34m*\u001b[0m \u001b[0msafe_sparse_dot\u001b[0m\u001b[0;34m(\u001b[0m\u001b[0mX\u001b[0m\u001b[0;34m,\u001b[0m \u001b[0mY\u001b[0m\u001b[0;34m.\u001b[0m\u001b[0mT\u001b[0m\u001b[0;34m,\u001b[0m \u001b[0mdense_output\u001b[0m\u001b[0;34m=\u001b[0m\u001b[0;32mTrue\u001b[0m\u001b[0;34m)\u001b[0m\u001b[0;34m\u001b[0m\u001b[0;34m\u001b[0m\u001b[0m\n\u001b[0m\u001b[1;32m    314\u001b[0m         \u001b[0mdistances\u001b[0m \u001b[0;34m+=\u001b[0m \u001b[0mXX\u001b[0m\u001b[0;34m\u001b[0m\u001b[0;34m\u001b[0m\u001b[0m\n\u001b[1;32m    315\u001b[0m         \u001b[0mdistances\u001b[0m \u001b[0;34m+=\u001b[0m \u001b[0mYY\u001b[0m\u001b[0;34m\u001b[0m\u001b[0;34m\u001b[0m\u001b[0m\n",
      "\u001b[0;32m~/Data mining/Data-mining-project/env/lib/python3.6/site-packages/sklearn/utils/validation.py\u001b[0m in \u001b[0;36minner_f\u001b[0;34m(*args, **kwargs)\u001b[0m\n\u001b[1;32m     61\u001b[0m             \u001b[0mextra_args\u001b[0m \u001b[0;34m=\u001b[0m \u001b[0mlen\u001b[0m\u001b[0;34m(\u001b[0m\u001b[0margs\u001b[0m\u001b[0;34m)\u001b[0m \u001b[0;34m-\u001b[0m \u001b[0mlen\u001b[0m\u001b[0;34m(\u001b[0m\u001b[0mall_args\u001b[0m\u001b[0;34m)\u001b[0m\u001b[0;34m\u001b[0m\u001b[0;34m\u001b[0m\u001b[0m\n\u001b[1;32m     62\u001b[0m             \u001b[0;32mif\u001b[0m \u001b[0mextra_args\u001b[0m \u001b[0;34m<=\u001b[0m \u001b[0;36m0\u001b[0m\u001b[0;34m:\u001b[0m\u001b[0;34m\u001b[0m\u001b[0;34m\u001b[0m\u001b[0m\n\u001b[0;32m---> 63\u001b[0;31m                 \u001b[0;32mreturn\u001b[0m \u001b[0mf\u001b[0m\u001b[0;34m(\u001b[0m\u001b[0;34m*\u001b[0m\u001b[0margs\u001b[0m\u001b[0;34m,\u001b[0m \u001b[0;34m**\u001b[0m\u001b[0mkwargs\u001b[0m\u001b[0;34m)\u001b[0m\u001b[0;34m\u001b[0m\u001b[0;34m\u001b[0m\u001b[0m\n\u001b[0m\u001b[1;32m     64\u001b[0m \u001b[0;34m\u001b[0m\u001b[0m\n\u001b[1;32m     65\u001b[0m             \u001b[0;31m# extra_args > 0\u001b[0m\u001b[0;34m\u001b[0m\u001b[0;34m\u001b[0m\u001b[0;34m\u001b[0m\u001b[0m\n",
      "\u001b[0;32m~/Data mining/Data-mining-project/env/lib/python3.6/site-packages/sklearn/utils/extmath.py\u001b[0m in \u001b[0;36msafe_sparse_dot\u001b[0;34m(a, b, dense_output)\u001b[0m\n\u001b[1;32m    150\u001b[0m             \u001b[0mret\u001b[0m \u001b[0;34m=\u001b[0m \u001b[0mnp\u001b[0m\u001b[0;34m.\u001b[0m\u001b[0mdot\u001b[0m\u001b[0;34m(\u001b[0m\u001b[0ma\u001b[0m\u001b[0;34m,\u001b[0m \u001b[0mb\u001b[0m\u001b[0;34m)\u001b[0m\u001b[0;34m\u001b[0m\u001b[0;34m\u001b[0m\u001b[0m\n\u001b[1;32m    151\u001b[0m     \u001b[0;32melse\u001b[0m\u001b[0;34m:\u001b[0m\u001b[0;34m\u001b[0m\u001b[0;34m\u001b[0m\u001b[0m\n\u001b[0;32m--> 152\u001b[0;31m         \u001b[0mret\u001b[0m \u001b[0;34m=\u001b[0m \u001b[0ma\u001b[0m \u001b[0;34m@\u001b[0m \u001b[0mb\u001b[0m\u001b[0;34m\u001b[0m\u001b[0;34m\u001b[0m\u001b[0m\n\u001b[0m\u001b[1;32m    153\u001b[0m \u001b[0;34m\u001b[0m\u001b[0m\n\u001b[1;32m    154\u001b[0m     if (sparse.issparse(a) and sparse.issparse(b)\n",
      "\u001b[0;31mKeyboardInterrupt\u001b[0m: "
     ]
    }
   ],
   "source": [
    "import os\n",
    "from PIL import Image\n",
    "\n",
    "# Chemin du dossier contenant les images\n",
    "folder_path = './pokemon/images/images'\n",
    "\n",
    "# Liste des extensions de fichier que nous voulons inclure dans l'analyse\n",
    "extensions = ['.jpg', '.jpeg', '.png']\n",
    "\n",
    "# Initialisation de la liste pour stocker les informations de chaque image\n",
    "images_info = []\n",
    "\n",
    "# Boucle à travers chaque fichier dans le dossier\n",
    "for filename in os.listdir(folder_path):\n",
    "    \n",
    "    try:\n",
    "        # Vérifie si le fichier est une image avec une extension spécifiée\n",
    "        if any(filename.lower().endswith(ext) for ext in extensions):\n",
    "            # Chemin complet de l'image\n",
    "            filepath = os.path.join(folder_path, filename)\n",
    "            # Ouvre l'image avec PIL\n",
    "            with Image.open(filepath) as img:\n",
    "                # Récupère les informations EXIF de l'image\n",
    "                exif = img.getexif()\n",
    "                # Stocke les informations dans un dictionnaire\n",
    "                images_info = {'filename': filename, \n",
    "                              'size': os.path.getsize(filepath),\n",
    "                              'k-means_regions': get_dominant_colors(filepath,1),\n",
    "                              'favorite_utilisateur1': satisfied_or_not(),\n",
    "                              'favorite_utilisateur2': satisfied_or_not(),\n",
    "                              'favorite_utilisateur3': satisfied_or_not(),\n",
    "                              'favorite_utilisateur4': satisfied_or_not()}\n",
    "                # Ajoute le dictionnaire à la liste\n",
    "                images_info.append(images_info)\n",
    "    except Exception as e:\n",
    "            print(f\"Erreur lors de l'extraction des informations de {filename}: {e}\")\n",
    "            continue"
   ]
  },
  {
   "cell_type": "code",
   "execution_count": 41,
   "metadata": {},
   "outputs": [],
   "source": [
    "# Écriture des informations dans un fichier JSON\n",
    "with open('./data_images.json', 'w') as d:\n",
    "    json.dump(images_info, d)"
   ]
  },
  {
   "cell_type": "code",
   "execution_count": null,
   "metadata": {},
   "outputs": [],
   "source": []
  }
 ],
 "metadata": {
  "kernelspec": {
   "display_name": "Python 3",
   "language": "python",
   "name": "python3"
  },
  "language_info": {
   "codemirror_mode": {
    "name": "ipython",
    "version": 3
   },
   "file_extension": ".py",
   "mimetype": "text/x-python",
   "name": "python",
   "nbconvert_exporter": "python",
   "pygments_lexer": "ipython3",
   "version": "3.6.9"
  }
 },
 "nbformat": 4,
 "nbformat_minor": 4
}
